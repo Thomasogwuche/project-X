{
 "cells": [
  {
   "cell_type": "markdown",
   "id": "f037e3f6",
   "metadata": {},
   "source": [
    "## Hangman Game"
   ]
  },
  {
   "cell_type": "markdown",
   "id": "b9aaae81",
   "metadata": {},
   "source": [
    "The game is about guessing a random word with limites number of guesses"
   ]
  },
  {
   "cell_type": "code",
   "execution_count": 1,
   "id": "e80aec06",
   "metadata": {},
   "outputs": [
    {
     "name": "stdout",
     "output_type": "stream",
     "text": [
      "['mike', 'john', 'Godswill', 'forever', 'solution', 'hand', 'father', 'Nigeria', 'Ghana', 'Kano', 'Imolite', 'Anambara', 'Enugu', 'Lagos', \"Benue'\"]\n"
     ]
    }
   ],
   "source": [
    "# Make a list of words\n",
    "#word_list = ['reading', 'fighting', 'attacking', 'provision', 'oblivion', 'president', 'attendant', 'Australia', 'magnanimous', 'aggreement']\n",
    "word = open('word.txt', 'r')\n",
    "word_list = word.read().splitlines()\n",
    "word.close()\n",
    "print(word_list)\n",
    "# words"
   ]
  },
  {
   "cell_type": "code",
   "execution_count": 2,
   "id": "f581a2c3",
   "metadata": {},
   "outputs": [],
   "source": [
    "# set maximum points possible\n",
    "max_points = 5"
   ]
  },
  {
   "cell_type": "code",
   "execution_count": 3,
   "id": "521b9cc6",
   "metadata": {},
   "outputs": [],
   "source": [
    "# set maximum number of guesses allowed\n",
    "max_guesses = 3\n",
    "max_wrong = 7 - 1"
   ]
  },
  {
   "cell_type": "code",
   "execution_count": 4,
   "id": "f0af0efc",
   "metadata": {},
   "outputs": [],
   "source": [
    "guessing = True"
   ]
  },
  {
   "cell_type": "code",
   "execution_count": 5,
   "id": "a42ffdcc",
   "metadata": {},
   "outputs": [],
   "source": [
    "num_guesses = 0\n",
    "wrong_guesses = 0"
   ]
  },
  {
   "cell_type": "code",
   "execution_count": 6,
   "id": "dd9af409",
   "metadata": {},
   "outputs": [],
   "source": [
    "import random"
   ]
  },
  {
   "cell_type": "code",
   "execution_count": 7,
   "id": "6430d272",
   "metadata": {},
   "outputs": [
    {
     "name": "stdout",
     "output_type": "stream",
     "text": [
      "mike\n"
     ]
    }
   ],
   "source": [
    "rand_word = random.choice(word_list)\n",
    "current_guess = '-' * len(word_list)\n",
    "print(rand_word)"
   ]
  },
  {
   "cell_type": "code",
   "execution_count": 8,
   "id": "53f9ffaa",
   "metadata": {},
   "outputs": [
    {
     "ename": "IndentationError",
     "evalue": "expected an indented block (2906554579.py, line 3)",
     "output_type": "error",
     "traceback": [
      "\u001b[1;36m  Input \u001b[1;32mIn [8]\u001b[1;36m\u001b[0m\n\u001b[1;33m    # turn previous hint into a list then loop through it to fi\u001b[0m\n\u001b[1;37m                                                               ^\u001b[0m\n\u001b[1;31mIndentationError\u001b[0m\u001b[1;31m:\u001b[0m expected an indented block\n"
     ]
    }
   ],
   "source": [
    "def word_hint(previous_hint = None):\n",
    "    # first check if previous hint is None, if none then generate new hint entirely\n",
    "    # turn previous hint into a list then loop through it to fi"
   ]
  },
  {
   "cell_type": "code",
   "execution_count": 11,
   "id": "759fe48f",
   "metadata": {
    "scrolled": true
   },
   "outputs": [
    {
     "name": "stdout",
     "output_type": "stream",
     "text": [
      "solution\n",
      "number if guesses : 0\n",
      "Please type in the word you think it is :sol\n",
      "number if guesses : 1\n",
      "Please type in the word you think it is :tshjhs\n",
      "hint : _____i__\n",
      "0 ;  _____i__\n",
      "1 ;  _____i__\n",
      "2 ;  _____i__\n",
      "3 ;  _____i__\n",
      "4 ;  _____i__\n",
      "5 ;  _____i__\n",
      "6 ;  _____i__\n",
      "7 ;  _____i__\n",
      "[0, 1, 2, 3, 4, 6, 7] :  0\n",
      "number if guesses : 2\n",
      "Please type in the word you think it is :the\n",
      "Your guess is wrong and your point is:  0.9876543209876544\n",
      "number if guesses : 2\n",
      "Please type in the word you think it is :solution\n",
      "Your guess is correct and your point is:  0.9876543209876544\n"
     ]
    }
   ],
   "source": [
    "rand_word = random.choice(word_list)\n",
    "rand_word = rand_word.lower()\n",
    "print(rand_word)\n",
    "max_guesses = 3\n",
    "guessing = True\n",
    "num_guesses = 0\n",
    "wrong_guesses = 0\n",
    "hint_set = False\n",
    "hint_index = []\n",
    "# start Game with a loop\n",
    "while guessing:\n",
    "    print('number if guesses :', num_guesses)\n",
    "    guessed_word = input('Please type in the word you think it is :')\n",
    "    # change case of guessed word to lower so as to be uniform\n",
    "    guessed_word = guessed_word.lower()\n",
    "    if guessed_word == rand_word:\n",
    "        print('Your guess is correct and your point is: ', max_points)\n",
    "        guessing = False\n",
    "        break\n",
    "    elif guessed_word != rand_word and num_guesses >= 2:\n",
    "        print('Your guess is wrong and your point is: ', max_points)\n",
    "    else:\n",
    "        num_guesses +=1\n",
    "        max_points = max_points * (max_guesses - 1)/max_guesses\n",
    "#         print\n",
    "        # check for initial hint\n",
    "        \n",
    "        if hint_set:\n",
    "#             print('trying.....')\n",
    "#             print(hint, 'hinting')\n",
    "            hint = hint\n",
    "            print('hint :',hint)\n",
    "            # check for the position of the alphabets in the hints that were provided \n",
    "            non_hint_index = []\n",
    "            for i in range(len(hint)):\n",
    "                print(i,'; ',hint)\n",
    "                if i not in hint_index:\n",
    "                    non_hint_index.append(i)\n",
    "            non_hint_len = len(non_hint_index)\n",
    "            \n",
    "            # pick a random number that is not the index of the already provided hint\n",
    "            new_rand_ind = random.randint(0,non_hint_len -1)\n",
    "            # count length of alphabet\n",
    "\n",
    "            # then provide the hint with it\n",
    "            print(non_hint_index, ': ',new_rand_ind)\n",
    "            new_hint_index = non_hint_index[new_rand_ind]\n",
    "            hint_index.append(new_hint_index)\n",
    "            hint = ''\n",
    "            for i in range(len(rand_word)):\n",
    "                if i in hint_index:\n",
    "                    hint += rand_word[i]\n",
    "                else:\n",
    "                    hint += '_'\n",
    "        else:\n",
    "            hint_set = True\n",
    "            hint = ''\n",
    "            #print(hint)\n",
    "            hint_index = []\n",
    "            new_rand_ind = random.randint(0,len(rand_word)-1)\n",
    "            #print(new_rand_ind)\n",
    "            hint_index.append(new_rand_ind)\n",
    "            #print(hint_index)\n",
    "            for i in range(len(rand_word)):\n",
    "                if i in hint_index:\n",
    "                    hint += rand_word[i]\n",
    "                    #print(hint)\n",
    "                else:\n",
    "                    hint += '_'\n",
    "            \n",
    "#     print(hint)\n",
    "        # if initial hint exists, collect that initial hint\n",
    "        \n",
    "        # if initial hint doesnt exist, the \n",
    "        # pick a random number less than the lenght of the random word\n",
    "        # provide hint with alphabet equall to the random number picked"
   ]
  },
  {
   "cell_type": "code",
   "execution_count": null,
   "id": "f27affaa",
   "metadata": {},
   "outputs": [],
   "source": [
    "print(hint)"
   ]
  },
  {
   "cell_type": "code",
   "execution_count": null,
   "id": "e30c26fb",
   "metadata": {},
   "outputs": [],
   "source": [
    "# Select a random word"
   ]
  },
  {
   "cell_type": "code",
   "execution_count": null,
   "id": "2d204434",
   "metadata": {},
   "outputs": [],
   "source": [
    "# start counting number of guesses"
   ]
  },
  {
   "cell_type": "code",
   "execution_count": null,
   "id": "670b3ecf",
   "metadata": {},
   "outputs": [],
   "source": [
    "# it tells the user to guess word"
   ]
  },
  {
   "cell_type": "code",
   "execution_count": null,
   "id": "6c980453",
   "metadata": {},
   "outputs": [],
   "source": [
    "# IF guessew_word == Random_word maximum point is awarded and exit loop"
   ]
  },
  {
   "cell_type": "code",
   "execution_count": null,
   "id": "898e97ff",
   "metadata": {},
   "outputs": [],
   "source": [
    "# IF NOT == do the following"
   ]
  },
  {
   "cell_type": "code",
   "execution_count": null,
   "id": "f7ce9016",
   "metadata": {},
   "outputs": [],
   "source": [
    "# increase count by 1"
   ]
  },
  {
   "cell_type": "code",
   "execution_count": null,
   "id": "86d626e0",
   "metadata": {},
   "outputs": [],
   "source": [
    "# reduce maximum points by 1/maximum number of guesses allowes"
   ]
  },
  {
   "cell_type": "code",
   "execution_count": null,
   "id": "96e86c93",
   "metadata": {},
   "outputs": [],
   "source": [
    "# provide an addditional hint randomly"
   ]
  },
  {
   "cell_type": "code",
   "execution_count": null,
   "id": "d52bcf81",
   "metadata": {},
   "outputs": [],
   "source": [
    "# restart loop"
   ]
  },
  {
   "cell_type": "code",
   "execution_count": null,
   "id": "8ee5756c",
   "metadata": {},
   "outputs": [],
   "source": [
    "# upon exiting loop, print the score obtained"
   ]
  },
  {
   "cell_type": "code",
   "execution_count": null,
   "id": "5d3dca33",
   "metadata": {},
   "outputs": [],
   "source": []
  },
  {
   "cell_type": "code",
   "execution_count": null,
   "id": "dfb294d2",
   "metadata": {},
   "outputs": [],
   "source": [
    "# ____i__, r___i__, r___i_g"
   ]
  }
 ],
 "metadata": {
  "kernelspec": {
   "display_name": "Python 3 (ipykernel)",
   "language": "python",
   "name": "python3"
  },
  "language_info": {
   "codemirror_mode": {
    "name": "ipython",
    "version": 3
   },
   "file_extension": ".py",
   "mimetype": "text/x-python",
   "name": "python",
   "nbconvert_exporter": "python",
   "pygments_lexer": "ipython3",
   "version": "3.9.12"
  }
 },
 "nbformat": 4,
 "nbformat_minor": 5
}
